{
  "nbformat": 4,
  "nbformat_minor": 0,
  "metadata": {
    "colab": {
      "provenance": [],
      "collapsed_sections": [
        "fRgdT3duaoQE",
        "VKXmb4gQfgrP",
        "0-ERHNjmSBvx",
        "TqwuOL8oW78l"
      ],
      "gpuType": "T4",
      "include_colab_link": true
    },
    "kernelspec": {
      "name": "python3",
      "display_name": "Python 3"
    },
    "language_info": {
      "name": "python"
    },
    "accelerator": "GPU"
  },
  "cells": [
    {
      "cell_type": "markdown",
      "metadata": {
        "id": "view-in-github",
        "colab_type": "text"
      },
      "source": [
        "<a href=\"https://colab.research.google.com/github/Maygummy16/bung/blob/main/python_crash_course_Exercise.ipynb\" target=\"_parent\"><img src=\"https://colab.research.google.com/assets/colab-badge.svg\" alt=\"Open In Colab\"/></a>"
      ]
    },
    {
      "cell_type": "markdown",
      "source": [
        "#Exercise 1"
      ],
      "metadata": {
        "id": "fRgdT3duaoQE"
      }
    },
    {
      "cell_type": "markdown",
      "source": [
        "1 ) จงเขียนโปรแกรมเพื่อแสดงผลข้อความดังต่อไปนี้\n",
        "\n",
        "1.1 )\n",
        "```\n",
        "Welcome to python crash course.\n",
        "I'm ready to learn python!\n",
        "```"
      ],
      "metadata": {
        "id": "4Ef2uMVSfpdk"
      }
    },
    {
      "cell_type": "code",
      "source": [
        "print(\"Welcome to python crash course.\")\n",
        "print(\"I'm ready to learn python!\")"
      ],
      "metadata": {
        "id": "xnYJmsQybnwZ",
        "colab": {
          "base_uri": "https://localhost:8080/"
        },
        "outputId": "29c8715b-9f04-41ee-958f-e6163aa3d550"
      },
      "execution_count": null,
      "outputs": [
        {
          "output_type": "stream",
          "name": "stdout",
          "text": [
            "Welcome to python crash course.\n",
            "I'm ready to learn python!\n"
          ]
        }
      ]
    },
    {
      "cell_type": "markdown",
      "source": [
        "1.2 ) Hint: ให้โปรแกรมแสดงตัวอักษร `\\` จะต้องพิมพ์ `\\\\`\n",
        "```\n",
        "  /\\\n",
        " /  \\  /\\\n",
        "/    \\/  \\\n",
        "```"
      ],
      "metadata": {
        "id": "X48iZYn6b4Vm"
      }
    },
    {
      "cell_type": "code",
      "source": [
        "print(\"  /\\\\\")\n",
        "print(\" /  \\\\  /\\\\\")\n",
        "print(\"/    \\\\/  \\\\\")"
      ],
      "metadata": {
        "id": "CUKmdQ5EcMyK",
        "colab": {
          "base_uri": "https://localhost:8080/"
        },
        "outputId": "5916f086-e2d8-4731-8221-0c5038b38e36"
      },
      "execution_count": null,
      "outputs": [
        {
          "output_type": "stream",
          "name": "stdout",
          "text": [
            "  /\\\n",
            " /  \\  /\\\n",
            "/    \\/  \\\n"
          ]
        }
      ]
    },
    {
      "cell_type": "markdown",
      "source": [
        "2 ) จงเขียนโปรแกรมเพื่อให้แสดงผลลัพธ์ของประพจน์ดังต่อไปนี้\n",
        "\n",
        "2.1 ) $\\frac{-4 + \\sqrt{5}}{7^2}$"
      ],
      "metadata": {
        "id": "wZ2D8_2Sc2UN"
      }
    },
    {
      "cell_type": "code",
      "source": [
        "print((-4+5**0.5)/(7**2))"
      ],
      "metadata": {
        "id": "cWn6z6IjdDRO",
        "colab": {
          "base_uri": "https://localhost:8080/"
        },
        "outputId": "a9f75156-9bdf-4cf2-9ef8-47440eabfba1"
      },
      "execution_count": null,
      "outputs": [
        {
          "output_type": "stream",
          "name": "stdout",
          "text": [
            "-0.03599861270408592\n"
          ]
        }
      ]
    },
    {
      "cell_type": "markdown",
      "source": [
        "2.2 ) $\\sqrt{\\sqrt{\\sqrt{19}-3}-1}$"
      ],
      "metadata": {
        "id": "5unR-jTJdi3R"
      }
    },
    {
      "cell_type": "code",
      "source": [
        "print((((19**0.5 - 3)**0.5)-1)**0.5)"
      ],
      "metadata": {
        "id": "CxO0OTPxeHXK",
        "colab": {
          "base_uri": "https://localhost:8080/"
        },
        "outputId": "ecdd8465-ee7f-4283-b13b-b7b66c6ed0f3"
      },
      "execution_count": null,
      "outputs": [
        {
          "output_type": "stream",
          "name": "stdout",
          "text": [
            "0.40708501485585497\n"
          ]
        }
      ]
    },
    {
      "cell_type": "markdown",
      "source": [
        "#Exercise 2"
      ],
      "metadata": {
        "id": "VKXmb4gQfgrP"
      }
    },
    {
      "cell_type": "markdown",
      "source": [
        "1 ) เขียนโปรแกรมเพื่อรับข้อมูลจำนวนเต็ม 1 ตัว $x$ จากนั้นให้แสดงผลค่าของ $x - 2 + \\frac{7}{3}x^2 - \\frac{11}{5}x^3 - \\log_{10}{x}$<br>\n",
        "Hint: `from math import log` to use $\\log()$\n",
        "\n",
        "ตัวอย่างที่ 1<br>\n",
        "input:<br>\n",
        "```\n",
        "10\n",
        "```\n",
        "\n",
        "output:<br>\n",
        "```\n",
        "-1959.6666666666667\n",
        "```\n",
        "\n",
        "ตัวอย่างที่ 2<br>\n",
        "input:<br>\n",
        "```\n",
        "15\n",
        "```\n",
        "\n",
        "output:<br>\n",
        "```\n",
        "-6888.176091259056\n",
        "```"
      ],
      "metadata": {
        "id": "tK8upvwSf0EX"
      }
    },
    {
      "cell_type": "code",
      "source": [
        "from math import log\n",
        "print(\"x = \")\n",
        "x = int(input())\n",
        "print( x - 2 + 7/3*x**2 - 11/5*x**3 - log(x) )"
      ],
      "metadata": {
        "id": "kLHQ9F6kg0QV",
        "colab": {
          "base_uri": "https://localhost:8080/"
        },
        "outputId": "315ac038-f30b-4d42-aafa-2b5ecbc13e76"
      },
      "execution_count": null,
      "outputs": [
        {
          "output_type": "stream",
          "name": "stdout",
          "text": [
            "x = \n",
            "15\n",
            "-6889.708050201103\n"
          ]
        }
      ]
    },
    {
      "cell_type": "markdown",
      "source": [
        "2 ) รับจำนวนเต็มสามจำนวน $h$ $m$ และ $s$ บรรทัดละจำนวน แทน ชั่วโมง นาที และวินาที จากนั้นให้แสดงผลจำนวนวินาทีรวมทั้งหมดที่คำนวณได้\n",
        "\n",
        "ตัวอย่างที่ 1<br>\n",
        "input:\n",
        "```\n",
        "10\n",
        "7\n",
        "22\n",
        "```\n",
        "\n",
        "output:\n",
        "```\n",
        "Total seconds = 36442\n",
        "```\n",
        "\n",
        "ตัวอย่างที่ 2<br>\n",
        "input:\n",
        "```\n",
        "24\n",
        "0\n",
        "16\n",
        "```\n",
        "\n",
        "output:\n",
        "```\n",
        "Total seconds = 86416\n",
        "```"
      ],
      "metadata": {
        "id": "y8tg7gOlSrLL"
      }
    },
    {
      "cell_type": "code",
      "source": [
        "print(\"hour = \")\n",
        "h = int(input())\n",
        "print(\"minute = \")\n",
        "m = int(input())\n",
        "print(\"second = \")\n",
        "s = int(input())\n",
        "print(h*60*60 + m*60 + s)"
      ],
      "metadata": {
        "id": "ZooXS0Z_WSXB",
        "colab": {
          "base_uri": "https://localhost:8080/"
        },
        "outputId": "d8ec1b04-4eab-498e-a93e-fe410c879302"
      },
      "execution_count": null,
      "outputs": [
        {
          "output_type": "stream",
          "name": "stdout",
          "text": [
            "hour = \n",
            "10\n",
            "minute = \n",
            "7\n",
            "second = \n",
            "22\n",
            "36442\n"
          ]
        }
      ]
    },
    {
      "cell_type": "markdown",
      "source": [
        "3 ) รับข้อมูลจำนวนเต็ม 3 ตัวทั้งหมดสองชุด $(v_1, v_2, v_3)$ และ $(u_1, u_2, u_3)$ แทนเวกเตอร์ $\\vec{v}$ และ $\\vec{u}$ จำนวนละบรรทัด (ทั้งหมด 6 บรรทัด) จากนั้นแสดงผลค่า dot product ของ $\\vec{v}$ กับ $\\vec{u}$<br>\n",
        "Hint: dot product of $\\vec{v}$ and $\\vec{u} = $ $\\vec{v} ⋅ \\vec{u} = v_1u_1 + v_2u_2 + v_3u_3$\n",
        "\n",
        "ตัวอย่างที่ 1<br>\n",
        "input:\n",
        "```\n",
        "1\n",
        "2\n",
        "3\n",
        "4\n",
        "5\n",
        "6\n",
        "```\n",
        "output:\n",
        "```\n",
        "32\n",
        "```\n",
        "ตัวอย่างที่ 2<br>\n",
        "input:\n",
        "```\n",
        "12\n",
        "3\n",
        "5\n",
        "7\n",
        "6\n",
        "19\n",
        "```\n",
        "output:\n",
        "```\n",
        "197\n",
        "```"
      ],
      "metadata": {
        "id": "VnOKiYKJXOK3"
      }
    },
    {
      "cell_type": "code",
      "source": [],
      "metadata": {
        "id": "Nz_t-s7oZl8d",
        "colab": {
          "base_uri": "https://localhost:8080/"
        },
        "outputId": "b7ec6a04-669f-478b-8033-ada9b30fca8e"
      },
      "execution_count": null,
      "outputs": [
        {
          "output_type": "stream",
          "name": "stdout",
          "text": [
            "2\n",
            "4\n",
            "5\n",
            "6\n",
            "1\n",
            "2\n",
            "24\n"
          ]
        }
      ]
    },
    {
      "cell_type": "markdown",
      "source": [
        "#Exercise 3"
      ],
      "metadata": {
        "id": "0-ERHNjmSBvx"
      }
    },
    {
      "cell_type": "markdown",
      "source": [
        "1 ) รับจำนวนเต็ม 3 จำนวน $a, b,$ และ $c$ บรรทัดละจำนวน แล้วแสดงผลค่ามัฐยฐานของจำนวนทั้งสาม\n",
        "\n",
        "ตัวอย่างที่ 1<br>\n",
        "input:\n",
        "```\n",
        "7\n",
        "2\n",
        "5\n",
        "```\n",
        "output:\n",
        "```\n",
        "5\n",
        "```\n",
        "ตัวอย่างที่ 2<br>\n",
        "input:\n",
        "```\n",
        "-1\n",
        "6\n",
        "-15\n",
        "```\n",
        "output:\n",
        "```\n",
        "-1\n",
        "```"
      ],
      "metadata": {
        "id": "EneoLhhJSG1Z"
      }
    },
    {
      "cell_type": "markdown",
      "source": [
        "2 ) เขียนโปรแกรมรับค่าจำนวนเต็มบวก $year$ แทนปีในระบบพุทธศักราช ถ้าปีดังกล่าวเป็น Leap Year ให้แสดงผลคำว่า YES ถ้าไม่ใช่ ให้แสดงผลคำว่า NO\n",
        "\n",
        "Leap Year คือปีในระบบคริสต์ศักราชที่หารด้วย 4 ลงตัวแต่หารด้วย 100 ไม่ลงตัว **หรือ** หารด้วย 400 ลงตัว\n",
        "\n",
        "ตัวอย่างที่ 1<br>\n",
        "input:\n",
        "```\n",
        "2543\n",
        "```\n",
        "output:\n",
        "```\n",
        "YES\n",
        "```\n",
        "ตัวอย่างที่ 2<br>\n",
        "input:\n",
        "```\n",
        "2243\n",
        "```\n",
        "output:\n",
        "```\n",
        "NO\n",
        "```"
      ],
      "metadata": {
        "id": "dV9EsjEcUBnL"
      }
    },
    {
      "cell_type": "code",
      "source": [],
      "metadata": {
        "id": "8uyFe-1LWzBg",
        "colab": {
          "base_uri": "https://localhost:8080/"
        },
        "outputId": "77750536-bfad-47e0-9b82-b060a07fdf4d"
      },
      "execution_count": null,
      "outputs": [
        {
          "output_type": "stream",
          "name": "stdout",
          "text": [
            "2243\n",
            "NO\n"
          ]
        }
      ]
    },
    {
      "cell_type": "code",
      "source": [],
      "metadata": {
        "id": "-gXwuP7WYBGS"
      },
      "execution_count": null,
      "outputs": []
    },
    {
      "cell_type": "markdown",
      "source": [
        "#Exercise 4"
      ],
      "metadata": {
        "id": "TqwuOL8oW78l"
      }
    },
    {
      "cell_type": "markdown",
      "source": [
        "1 ) จงเขียนโปรแกรมรับจำนวนเต็ม 1 จำนวน $n$ แล้วแสดงสูตรคูณแม่ $n$\n",
        "\n",
        "ตัวอย่างที่ 1<br>\n",
        "input:\n",
        "```\n",
        "5\n",
        "```\n",
        "output:\n",
        "```\n",
        "5 x 1 = 5\n",
        "5 x 2 = 10\n",
        "5 x 3 = 15\n",
        "5 x 4 = 20\n",
        "5 x 5 = 25\n",
        "5 x 6 = 30\n",
        "5 x 7 = 35\n",
        "5 x 8 = 40\n",
        "5 x 9 = 45\n",
        "5 x 10 = 50\n",
        "5 x 11 = 55\n",
        "5 x 12 = 60\n",
        "```\n",
        "ตัวอย่างที่ 2<br>\n",
        "input:\n",
        "```\n",
        "17\n",
        "```\n",
        "output:\n",
        "```\n",
        "17 x 1 = 17\n",
        "17 x 2 = 34\n",
        "17 x 3 = 51\n",
        "17 x 4 = 68\n",
        "17 x 5 = 85\n",
        "17 x 6 = 102\n",
        "17 x 7 = 119\n",
        "17 x 8 = 136\n",
        "17 x 9 = 153\n",
        "17 x 10 = 170\n",
        "17 x 11 = 187\n",
        "17 x 12 = 204\n",
        "```"
      ],
      "metadata": {
        "id": "4300OYqyW_nr"
      }
    },
    {
      "cell_type": "code",
      "source": [],
      "metadata": {
        "id": "yjdjYMNMXrtL",
        "colab": {
          "base_uri": "https://localhost:8080/"
        },
        "outputId": "00f48ffd-65e0-43ab-ac6b-1e19ad146375"
      },
      "execution_count": null,
      "outputs": [
        {
          "output_type": "stream",
          "name": "stdout",
          "text": [
            "3\n",
            "3  x  1 = 3\n",
            "3  x  2 = 6\n",
            "3  x  3 = 9\n",
            "3  x  4 = 12\n",
            "3  x  5 = 15\n",
            "3  x  6 = 18\n",
            "3  x  7 = 21\n",
            "3  x  8 = 24\n",
            "3  x  9 = 27\n",
            "3  x  10 = 30\n",
            "3  x  11 = 33\n",
            "3  x  12 = 36\n"
          ]
        }
      ]
    },
    {
      "cell_type": "markdown",
      "source": [
        "2 )\n",
        "\n",
        "กำหนดจำนวนเต็มบวก $k$ และ ชุดข้อมูลของจำนวนเต็มบวกทั้งหมด $n$ ตัว $a_1, a_2, a_3, \\dots, a_n$\n",
        "\n",
        "จงเขียนโปรแกรมเพื่อหาผลรวมของจำนวนคู่บวกทั้งหมดในชุดข้อมูลที่มีค่าน้อยกว่าหรือเท่ากับ $k$\n",
        "\n",
        "**> Input**<br>\n",
        "<b>บรรทัดแรก</b> จำนวนเต็ม $n$ และ $k$<br>\n",
        "<b>บรรทัดที่สอง</b> ประกอบด้วยจำนวนเต็ม $n$ ตัว $a_1, a_2, a_3, \\dots, a_n$ คั่นด้วยช่องว่าง\n",
        "\n",
        "**> Output**<br>\n",
        "<b>มีบรรทัดเดียว</b> ผลรวมของจำนวนคู่บวกทั้งหมดในชุดข้อมูลที่มีค่าน้อยกว่าหรือเท่ากับ $k$\n",
        "\n",
        "**> Example**<br>\n",
        "input:\n",
        "```\n",
        "10 6\n",
        "1 2 3 4 5 6 7 8 9 10\n",
        "```\n",
        "output:\n",
        "```\n",
        "12\n",
        "```\n",
        "input:\n",
        "```\n",
        "10 8\n",
        "2 6 7 5 10 2 9 7 4 6\n",
        "```\n",
        "output:\n",
        "```\n",
        "20\n",
        "```\n"
      ],
      "metadata": {
        "id": "1fNO0b1JYnBl"
      }
    },
    {
      "cell_type": "code",
      "source": [],
      "metadata": {
        "id": "s3StB1nClF4j"
      },
      "execution_count": null,
      "outputs": []
    },
    {
      "cell_type": "markdown",
      "source": [
        "#Exercise 5"
      ],
      "metadata": {
        "id": "HYyc8bS8yRzu"
      }
    },
    {
      "cell_type": "markdown",
      "source": [
        "1 ) จงเขียนโปรแกรมภายในฟังก์ชัน `gcd(a, b)` ที่กำหนดให้ เพื่อให้ฟังก์ชันดังกล่าวคืนค่ากลับมาเป็น ห.ร.ม. ของ `a` และ `b`\n",
        "\n",
        "Hint: สามารถใช้ฟังก์ชัน `min(x, y)` เพื่อใช้ค่าที่น้อยกว่าระหว่าง `x` กับ `y` ได้\n",
        "\n",
        "input:\n",
        "```\n",
        "8 12\n",
        "```\n",
        "output:\n",
        "```\n",
        "4\n",
        "```\n",
        "input:\n",
        "```\n",
        "36 14\n",
        "```\n",
        "```\n",
        "2\n",
        "```"
      ],
      "metadata": {
        "id": "JQEN4G5ByaHL"
      }
    },
    {
      "cell_type": "code",
      "source": [],
      "metadata": {
        "id": "YYU-XSFnxyn1",
        "colab": {
          "base_uri": "https://localhost:8080/"
        },
        "outputId": "30526727-4992-4b21-ffc4-af1f908d43bf"
      },
      "execution_count": null,
      "outputs": [
        {
          "output_type": "stream",
          "name": "stdout",
          "text": [
            "8 12\n",
            "4\n"
          ]
        }
      ]
    },
    {
      "cell_type": "markdown",
      "source": [
        "2 )\n",
        "\n",
        "ที่จังหวัดแห่งหนึ่งมีผู้ลงสมัครเลือกตั้งเป็นผู้ว่าจังหวัดทั้งหมด $n$ คน โดยให้ผู้สมัครคนที่ $i$ $(1 \\leq i \\leq n)$ มีชื่อว่า $s_i$ และมีผู้เข้าใช้สิทธิเลือกตั้งทั้งหมด $m$ คน แต่ละคนสามารถโหวตผู้ลงสมัครเลือกตั้งได้เพียง 1 คน\n",
        "\n",
        "จงเขียนโปรแกรมเพื่อแสดงผลคะแนนที่สูงที่สุดของผู้ชนะการเลือกตั้ง\n",
        "\n",
        "**> Input**<br>\n",
        "**บรรทัดแรก** จำนวนเต็มสองจำนวน $n$ และ $m$<br>\n",
        "**$n$ บรรทัดต่อมา** แต่ละบรรทัดย่อยที่ $i$ $(1 \\leq i \\leq n)$ แสดงชื่อของผู้สมัคร $s_i$<br>\n",
        "**บรรทัดสุดท้าย** string จำนวน $m$ ตัว แสดงถึงรายชื่อที่ผู้ใช่สิทธิเลือกตั้งแต่ละคนเลือก\n",
        "\n",
        "**> Output**<br>\n",
        "**มีบรรทัดเดียว** คะแนนที่สูงที่สุดของผู้ชนะการเลือกตั้ง\n",
        "\n",
        "input:\n",
        "```\n",
        "3 5\n",
        "Mookrob\n",
        "Thanakrit\n",
        "Somchai\n",
        "Somchai Thanakrit Somchai Somchai Mookrob\n",
        "```\n",
        "output:\n",
        "```\n",
        "3\n",
        "```"
      ],
      "metadata": {
        "id": "4exRsSiw3btE"
      }
    },
    {
      "cell_type": "code",
      "source": [],
      "metadata": {
        "id": "O0NBNXeF7RBz",
        "colab": {
          "base_uri": "https://localhost:8080/"
        },
        "outputId": "9eec8fd1-c273-46f6-dc80-1f5e64a9ac80"
      },
      "execution_count": null,
      "outputs": [
        {
          "output_type": "stream",
          "name": "stdout",
          "text": [
            "2 1\n",
            "ee\n",
            "rrt\n",
            "ee rrt ee\n",
            "2\n"
          ]
        }
      ]
    }
  ]
}